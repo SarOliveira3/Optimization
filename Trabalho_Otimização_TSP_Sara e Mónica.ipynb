{
 "cells": [
  {
   "cell_type": "markdown",
   "metadata": {},
   "source": [
    "# Tópico 1 - Problema do Caixeiro Viajante (Traveling Salesman Problem)\n",
    "\n",
    "Dado um conjunto de cidades e as distâncias entre cada par de cidades, o objetivo é encontrar o caminho mais curto que visita cada cidade exatamente uma vez e retorna à cidade de origem, minimizando a distância total percorrida.\n",
    "\n",
    "Formalmente, seja \\( n \\) o número de cidades, ($d_{ij}$) a distância entre as cidades ($i$) e ($j$), e ($P$) o conjunto de todos os possíveis caminhos. O problema pode ser descrito pela seguinte função de minimização:\n",
    "\n",
    "$ \\text{Minimizar} \\sum_{(i, j) \\in P} d_{ij} \\cdot x_{ij} $\n",
    "\n",
    "sujeito a:\n",
    "\n",
    "1. Cada cidade é visitada exatamente uma vez:\n",
    "   $ \\sum_{j=1, j \\neq i}^{n} x_{ij} = 1 \\quad \\forall i \\in \\{1, 2, ..., n\\} $\n",
    "\n",
    "2. Cada cidade é deixada exatamente uma vez:\n",
    "   $ \\sum_{i=1, i \\neq j}^{n} x_{ij} = 1 \\quad \\forall j \\in \\{1, 2, ..., n\\} $\n",
    "\n",
    "3. Evitar subciclos (garantir que o percurso forme um ciclo hamiltoniano).\n",
    "\n",
    "Onde ($x_{ij}$) é uma variável binária que indica se o arco entre as cidades \\( i \\) e \\( j \\) é incluído no percurso (1 se incluído, 0 caso contrário).\n",
    "\n",
    "O **Problema do Caixeiro Viajante** é também um problema NP-difícil, e embora existam algoritmos exatos para pequenas instâncias, a complexidade computacional aumenta rapidamente com o número de cidades, tornando-se impraticável para grandes instâncias. Muitos métodos heurísticos e algoritmos aproximados são utilizados para encontrar soluções eficientes em prática."
   ]
  },
  {
   "cell_type": "markdown",
   "metadata": {},
   "source": [
    "## Criação do Dataset"
   ]
  },
  {
   "cell_type": "code",
   "execution_count": 49,
   "metadata": {},
   "outputs": [
    {
     "name": "stdout",
     "output_type": "stream",
     "text": [
      "Requirement already satisfied: geopy in c:\\users\\ricky\\anaconda3\\lib\\site-packages (2.4.1)\n",
      "Requirement already satisfied: geographiclib<3,>=1.52 in c:\\users\\ricky\\anaconda3\\lib\\site-packages (from geopy) (2.0)\n"
     ]
    }
   ],
   "source": [
    "!pip install geopy"
   ]
  },
  {
   "cell_type": "code",
   "execution_count": 50,
   "metadata": {},
   "outputs": [],
   "source": [
    "import geopy.distance\n",
    "import numpy as np\n",
    "\n",
    "def give_me_coordinates(start_lat, start_lon, max_delta):    \n",
    "    lat = start_lat + np.random.rand() * max_delta\n",
    "    lon = start_lon + np.random.rand() * max_delta\n",
    "    \n",
    "    return (lat, lon)\n",
    "    \n",
    "\n",
    "def give_me_distance(start, end, var = 1):\n",
    "    d = geopy.distance.geodesic(start, end).km\n",
    "    return d * (1+np.random.randn()/10)\n",
    "\n",
    "def create_tsp(number_of_cities, start_lat, start_lon, max_delta = 2):\n",
    "    \n",
    "    city_locations = [give_me_coordinates(start_lat, start_lon, max_delta) for _ in range(number_of_cities)]\n",
    "    total_distances = []\n",
    "    for start in city_locations:\n",
    "        distances = []\n",
    "        for finish in city_locations:\n",
    "            distances.append(give_me_distance(start, finish))\n",
    "        total_distances.append(distances)\n",
    "    return total_distances\n",
    "        "
   ]
  },
  {
   "cell_type": "code",
   "execution_count": 51,
   "metadata": {},
   "outputs": [],
   "source": [
    "distances = create_tsp(10,50,20)"
   ]
  },
  {
   "cell_type": "code",
   "execution_count": 52,
   "metadata": {},
   "outputs": [
    {
     "data": {
      "text/plain": [
       "[[0.0,\n",
       "  109.45808328763181,\n",
       "  93.29803449472195,\n",
       "  79.14300535844792,\n",
       "  124.02441717394993,\n",
       "  58.7179215176095,\n",
       "  56.80727625586976,\n",
       "  90.62917581801834,\n",
       "  65.11172367366981,\n",
       "  73.17486782141482],\n",
       " [99.94614699500212,\n",
       "  0.0,\n",
       "  61.59961385836219,\n",
       "  223.3293609720214,\n",
       "  19.791486813503344,\n",
       "  159.25950247955967,\n",
       "  94.4267963926442,\n",
       "  92.00665002959259,\n",
       "  59.88167963875736,\n",
       "  160.43967970777445],\n",
       " [72.21395693804263,\n",
       "  65.82156135382486,\n",
       "  0.0,\n",
       "  139.61104651556832,\n",
       "  71.91240943682593,\n",
       "  121.13315753323066,\n",
       "  99.74160063051009,\n",
       "  36.39195951445621,\n",
       "  29.29613759841066,\n",
       "  210.3857135860852],\n",
       " [75.19687396662277,\n",
       "  201.63999255562695,\n",
       "  179.94736692998265,\n",
       "  0.0,\n",
       "  237.20430994259306,\n",
       "  34.1114510378472,\n",
       "  129.86806268648027,\n",
       "  143.8817494498446,\n",
       "  132.73090476455258,\n",
       "  120.65897552081182],\n",
       " [135.5007832857448,\n",
       "  17.992041467449923,\n",
       "  70.61027055267614,\n",
       "  188.89149501137663,\n",
       "  0.0,\n",
       "  141.78306061382895,\n",
       "  82.43855815157055,\n",
       "  111.59672856467158,\n",
       "  66.06158604815462,\n",
       "  163.03331128105884],\n",
       " [39.91838772973201,\n",
       "  129.3227564315726,\n",
       "  122.3211394424216,\n",
       "  34.32906353191906,\n",
       "  159.5164891992571,\n",
       "  0.0,\n",
       "  93.29489537566353,\n",
       "  135.59970542127095,\n",
       "  88.01964297378048,\n",
       "  115.84018806058194],\n",
       " [59.131520565469046,\n",
       "  115.39690944374603,\n",
       "  91.01614131600275,\n",
       "  101.98172605412822,\n",
       "  99.41447166319344,\n",
       "  110.12969157269403,\n",
       "  0.0,\n",
       "  142.94793624474545,\n",
       "  75.01537694715206,\n",
       "  72.19090529469334],\n",
       " [93.0288888333194,\n",
       "  79.53790538105416,\n",
       "  38.04418152108283,\n",
       "  128.45264529175324,\n",
       "  123.12443709837741,\n",
       "  116.35847466041645,\n",
       "  123.9135863006088,\n",
       "  0.0,\n",
       "  62.33025112975204,\n",
       "  194.03142879750934],\n",
       " [72.93009613153187,\n",
       "  54.60962981357692,\n",
       "  36.55044679293963,\n",
       "  137.47705528394667,\n",
       "  71.91103673598012,\n",
       "  110.08188718950576,\n",
       "  67.00638323507631,\n",
       "  59.66122322831456,\n",
       "  0.0,\n",
       "  133.2711289336351],\n",
       " [80.58236976697691,\n",
       "  176.27504813443133,\n",
       "  182.17787183037157,\n",
       "  90.36644908671958,\n",
       "  166.20942303426946,\n",
       "  93.5275491720037,\n",
       "  73.50632978259667,\n",
       "  174.04771267250388,\n",
       "  124.66122762202673,\n",
       "  0.0]]"
      ]
     },
     "execution_count": 52,
     "metadata": {},
     "output_type": "execute_result"
    }
   ],
   "source": [
    "distances"
   ]
  },
  {
   "cell_type": "markdown",
   "metadata": {},
   "source": [
    "## Função Objectivo (Sugestão)"
   ]
  },
  {
   "cell_type": "code",
   "execution_count": 53,
   "metadata": {},
   "outputs": [],
   "source": [
    "import numpy as np"
   ]
  },
  {
   "cell_type": "code",
   "execution_count": 54,
   "metadata": {},
   "outputs": [],
   "source": [
    "solucao_candidata = np.random.choice(10, 10, replace=False)"
   ]
  },
  {
   "cell_type": "code",
   "execution_count": 55,
   "metadata": {},
   "outputs": [
    {
     "data": {
      "text/plain": [
       "array([6, 5, 9, 3, 8, 7, 2, 4, 0, 1])"
      ]
     },
     "execution_count": 55,
     "metadata": {},
     "output_type": "execute_result"
    }
   ],
   "source": [
    "solucao_candidata"
   ]
  },
  {
   "cell_type": "code",
   "execution_count": 56,
   "metadata": {},
   "outputs": [],
   "source": [
    "def objective_function(distances,solucao_candidata):\n",
    "    last_city = solucao_candidata[0]\n",
    "    total_distance = 0\n",
    "    for city in solucao_candidata:\n",
    "        total_distance += distances[last_city][city]\n",
    "        last_city = city\n",
    "    total_distance += distances[last_city][solucao_candidata[0]] # por ultimo regressamos à cidade original\n",
    "    return total_distance"
   ]
  },
  {
   "cell_type": "code",
   "execution_count": 57,
   "metadata": {},
   "outputs": [
    {
     "data": {
      "text/plain": [
       "958.0707106367921"
      ]
     },
     "execution_count": 57,
     "metadata": {},
     "output_type": "execute_result"
    }
   ],
   "source": [
    "objective_function(distances, solucao_candidata)"
   ]
  },
  {
   "cell_type": "markdown",
   "metadata": {},
   "source": [
    "## Simulated Annealing"
   ]
  },
  {
   "cell_type": "code",
   "execution_count": 58,
   "metadata": {},
   "outputs": [],
   "source": [
    "#sugestão vizinhança 1\n",
    "def generate_neighbor(solution):\n",
    "    # Implementa uma perturbação simples na solução trocando duas cidades de posição\n",
    "    neighbor = solution.copy()\n",
    "    idx1, idx2 = np.random.choice(len(solution), size=2, replace=False)\n",
    "    neighbor[idx1], neighbor[idx2] = neighbor[idx2], neighbor[idx1]\n",
    "    return neighbor"
   ]
  },
  {
   "cell_type": "code",
   "execution_count": 59,
   "metadata": {},
   "outputs": [],
   "source": [
    "def simulated_annealing(distances, initial_solution, initial_temperature, cooling_rate, num_iterations):\n",
    "    current_solution = initial_solution\n",
    "    best_solution = current_solution\n",
    "    temperature = initial_temperature\n",
    "\n",
    "    for iteration in range(num_iterations):\n",
    "        neighbor_solution = generate_neighbor(current_solution)\n",
    "        current_cost = objective_function(distances, current_solution)\n",
    "        neighbor_cost = objective_function(distances, neighbor_solution)\n",
    "\n",
    "        if neighbor_cost < current_cost or np.random.rand() < np.exp((current_cost - neighbor_cost) / temperature):\n",
    "            current_solution = neighbor_solution\n",
    "\n",
    "        if neighbor_cost < objective_function(distances, best_solution):\n",
    "            best_solution = neighbor_solution\n",
    "\n",
    "        temperature *= cooling_rate\n",
    "\n",
    "    return best_solution\n",
    "\n"
   ]
  },
  {
   "cell_type": "code",
   "execution_count": 60,
   "metadata": {},
   "outputs": [
    {
     "name": "stdout",
     "output_type": "stream",
     "text": [
      "Melhor solução: [8 1 3 4 5 7 0 2 9 6]\n",
      "Distância da melhor solução: 408.53895894481866\n"
     ]
    }
   ],
   "source": [
    "# Exemplo de uso\n",
    "num_cities = 10\n",
    "start_lat, start_lon = 50, 20\n",
    "max_delta = 2\n",
    "\n",
    "city_locations = [give_me_coordinates(start_lat, start_lon, max_delta) for _ in range(num_cities)]\n",
    "distances = [[give_me_distance(city_locations[i], city_locations[j]) for j in range(num_cities)] for i in range(num_cities)]\n",
    "\n",
    "initial_solution = np.random.permutation(num_cities)\n",
    "initial_temperature = 1000.0\n",
    "cooling_rate = 0.95\n",
    "num_iterations = 20000\n",
    "\n",
    "best_solution = simulated_annealing(distances, initial_solution, initial_temperature, cooling_rate, num_iterations)\n",
    "best_distance = objective_function(distances, best_solution)\n",
    "\n",
    "print(\"Melhor solução:\", best_solution)\n",
    "print(\"Distância da melhor solução:\", best_distance)"
   ]
  },
  {
   "cell_type": "code",
   "execution_count": 61,
   "metadata": {},
   "outputs": [],
   "source": [
    "#sugestão de vizinhança 2\n",
    "def generate_neighbor_v2(solution):\n",
    "    # Escolhe aleatoriamente uma cidade para ser movida para a última posição\n",
    "    idx = np.random.choice(len(solution), size=1, replace=False)[0]\n",
    "    \n",
    "    # Gera a nova solução com a cidade escolhida na última posição\n",
    "    neighbor = np.concatenate([solution[:idx], solution[idx+1:], [solution[idx]]])\n",
    "    \n",
    "    return neighbor"
   ]
  },
  {
   "cell_type": "code",
   "execution_count": 62,
   "metadata": {},
   "outputs": [],
   "source": [
    "def simulated_annealing_v2(distances, initial_solution, initial_temperature, cooling_rate, num_iterations):\n",
    "    current_solution = initial_solution\n",
    "    best_solution = current_solution\n",
    "    temperature = initial_temperature\n",
    "\n",
    "    for iteration in range(num_iterations):\n",
    "        neighbor_solution = generate_neighbor_v2(current_solution)\n",
    "        current_cost = objective_function(distances, current_solution)\n",
    "        neighbor_cost = objective_function(distances, neighbor_solution)\n",
    "\n",
    "        if neighbor_cost < current_cost or np.random.rand() < np.exp((current_cost - neighbor_cost) / temperature):\n",
    "            current_solution = neighbor_solution\n",
    "\n",
    "        if neighbor_cost < objective_function(distances, best_solution):\n",
    "            best_solution = neighbor_solution\n",
    "\n",
    "        temperature *= cooling_rate\n",
    "\n",
    "    return best_solution"
   ]
  },
  {
   "cell_type": "code",
   "execution_count": 63,
   "metadata": {},
   "outputs": [
    {
     "name": "stdout",
     "output_type": "stream",
     "text": [
      "Melhor solução: [4 7 0 9 1 3 2 8 5 6]\n",
      "Distância da melhor solução: 424.89633258426124\n"
     ]
    }
   ],
   "source": [
    "# Exemplo de uso\n",
    "num_cities = 10\n",
    "start_lat, start_lon = 50, 20\n",
    "max_delta = 2\n",
    "\n",
    "city_locations = [give_me_coordinates(start_lat, start_lon, max_delta) for _ in range(num_cities)]\n",
    "distances = [[give_me_distance(city_locations[i], city_locations[j]) for j in range(num_cities)] for i in range(num_cities)]\n",
    "\n",
    "initial_solution = np.random.permutation(num_cities)\n",
    "initial_temperature = 1000.0\n",
    "cooling_rate = 0.95\n",
    "num_iterations = 20000\n",
    "\n",
    "best_solution = simulated_annealing_v2(distances, initial_solution, initial_temperature, cooling_rate, num_iterations)\n",
    "best_distance = objective_function(distances, best_solution)\n",
    "\n",
    "print(\"Melhor solução:\", best_solution)\n",
    "print(\"Distância da melhor solução:\", best_distance)"
   ]
  },
  {
   "cell_type": "code",
   "execution_count": 64,
   "metadata": {},
   "outputs": [
    {
     "data": {
      "image/png": "[encoded data removed]",
      "text/plain": [
       "<Figure size 640x480 with 1 Axes>"
      ]
     },
     "metadata": {},
     "output_type": "display_data"
    }
   ],
   "source": [
    "import matplotlib.pyplot as plt\n",
    "import numpy as np\n",
    "\n",
    "# Função para plotar as cidades e a rota\n",
    "def plot_solution(city_locations, solution):\n",
    "    # Descompacta as coordenadas das cidades\n",
    "    lats, lons = zip(*city_locations)\n",
    "    \n",
    "    # Adiciona a primeira cidade no final para fechar o ciclo\n",
    "    lats += (lats[0],)\n",
    "    lons += (lons[0],)\n",
    "    \n",
    "    # Plota as cidades\n",
    "    plt.scatter(lons, lats, color='red', marker='o', label='Cidades')\n",
    "    \n",
    "    # Plota a rota\n",
    "    plt.plot(np.take(lons, solution), np.take(lats, solution), linestyle='-', marker='o', color='blue', label='Rota')\n",
    "    \n",
    "    # Adiciona rótulos para as cidades\n",
    "    for i, txt in enumerate(range(len(city_locations))):\n",
    "        plt.annotate(txt, (lons[i], lats[i]), fontsize=8, ha='right', va='bottom')\n",
    "    \n",
    "    # Adiciona legendas e títulos\n",
    "    plt.legend()\n",
    "    plt.title('Representação Gráfica da Melhor Solução')\n",
    "    plt.xlabel('Longitude')\n",
    "    plt.ylabel('Latitude')\n",
    "    \n",
    "    # Exibe o gráfico\n",
    "    plt.show()\n",
    "\n",
    "# Exemplo de uso\n",
    "plot_solution(city_locations, best_solution)"
   ]
  },
  {
   "cell_type": "code",
   "execution_count": 48,
   "metadata": {},
   "outputs": [
    {
     "name": "stdout",
     "output_type": "stream",
     "text": [
      "Initial_temperature 1000, Colling Rate: 0.95\n",
      "Melhor Solução: [1 7 9 4 6 0 2 8 5 3]\n",
      "Distância da Melhor Solução: 525.9392003692781\n",
      "\n",
      "\n",
      "Initial_temperature 1000, Colling Rate: 0.98\n",
      "Melhor Solução: [2 8 5 3 1 7 9 4 6 0]\n",
      "Distância da Melhor Solução: 525.9392003692781\n",
      "\n",
      "\n",
      "Initial_temperature 1000, Colling Rate: 0.99\n",
      "Melhor Solução: [1 3 9 4 6 0 2 8 5 7]\n",
      "Distância da Melhor Solução: 570.2556013792396\n",
      "\n",
      "\n",
      "Initial_temperature 5000, Colling Rate: 0.95\n",
      "Melhor Solução: [3 5 8 0 2 4 6 9 7 1]\n",
      "Distância da Melhor Solução: 536.171403941672\n",
      "\n",
      "\n",
      "Initial_temperature 5000, Colling Rate: 0.98\n",
      "Melhor Solução: [3 9 4 6 7 1 8 0 2 5]\n",
      "Distância da Melhor Solução: 626.3512774187419\n",
      "\n",
      "\n",
      "Initial_temperature 5000, Colling Rate: 0.99\n",
      "Melhor Solução: [0 2 8 5 3 1 7 9 4 6]\n",
      "Distância da Melhor Solução: 525.9392003692781\n",
      "\n",
      "\n",
      "Initial_temperature 10000, Colling Rate: 0.95\n",
      "Melhor Solução: [7 9 4 6 3 5 8 0 2 1]\n",
      "Distância da Melhor Solução: 570.752410044926\n",
      "\n",
      "\n",
      "Initial_temperature 10000, Colling Rate: 0.98\n",
      "Melhor Solução: [8 5 3 1 7 9 4 6 0 2]\n",
      "Distância da Melhor Solução: 525.9392003692782\n",
      "\n",
      "\n",
      "Initial_temperature 10000, Colling Rate: 0.99\n",
      "Melhor Solução: [2 4 6 9 7 1 3 5 8 0]\n",
      "Distância da Melhor Solução: 536.1714039416721\n",
      "\n",
      "\n"
     ]
    }
   ],
   "source": [
    "def run_sa_experiments(distances, initial_solution, initial_temperatures, cooling_rates, num_iterations):\n",
    "    results = []\n",
    "\n",
    "    for initial_temp in initial_temperatures:\n",
    "        for cooling_rate in cooling_rates:\n",
    "            # Executa o Simulated Annealing para uma combinação específica de temperatura inicial e taxa de resfriamento\n",
    "            best_solution = simulated_annealing(distances, initial_solution, initial_temp, cooling_rate, num_iterations)\n",
    "            best_distance = objective_function(distances, best_solution)\n",
    "\n",
    "            # Armazena os resultados\n",
    "            results.append({\n",
    "                'initial_temp': initial_temp,\n",
    "                'cooling_rate': cooling_rate,\n",
    "                'best_solution': best_solution,\n",
    "                'best_distance': best_distance\n",
    "            })\n",
    "\n",
    "    return results\n",
    "\n",
    "# Configurações para experimentos\n",
    "initial_temperatures = [1000, 5000, 10000]\n",
    "cooling_rates = [0.95, 0.98, 0.99]\n",
    "num_iterations = 10000\n",
    "\n",
    "# Executa experimentos\n",
    "experiment_results = run_sa_experiments(distances, initial_solution, initial_temperatures, cooling_rates, num_iterations)\n",
    "\n",
    "# Imprime os resultados\n",
    "for result in experiment_results:\n",
    "    print(f\"Initial_temperature {result['initial_temp']}, Colling Rate: {result['cooling_rate']}\")\n",
    "    print(f\"Melhor Solução: {result['best_solution']}\")\n",
    "    print(f\"Distância da Melhor Solução: {result['best_distance']}\")\n",
    "    print(\"\\n\")"
   ]
  },
  {
   "cell_type": "markdown",
   "metadata": {},
   "source": [
    "#####4. A escolha da estratégia de vizinhança pode ter um impacto significativo no desempenho do algoritmo Simulated Annealing. Se a atualização não for aleatória e sempre escolher a vizinhança onde a distância é a maior, isso pode afetar a capacidade do algoritmo de escapar de mínimos locais e encontrar soluções melhoreAo sempre escolher a vizinhança onde a distância é a maior, o algoritmo pode ficar preso em ótimos locais subótimos sem explorar outras regiões do espaço de busca. Isso pode resultar em soluções que não são tão boas quanto poderiam ser se o algoritmo tivesse explorado mais amplamente o espaço de solução.A aleatoriedade na escolha da vizinhança permite que o algoritmo explore diferentes regiões do espaço de busca, o que é benéfico para escapar de mínimos locais e encontrar soluções mais próximas do ótimo global.Em resumo, é geralmente recomendado manter alguma aleatoriedade na escolha da vizinhança durante o Simulated Annealing para garantir uma exploração mais ampla do espaço de solução e aumentar as chances de encontrar soluções de melhor qualidade."
   ]
  },
  {
   "cell_type": "markdown",
   "metadata": {},
   "source": [
    "# Desafio - Programação "
   ]
  },
  {
   "cell_type": "markdown",
   "metadata": {},
   "source": [
    "Dependendo do algoritmo escolhido, responde às seguintes questões (com suporte gráfico, quando necessário).\n",
    "\n",
    "**Simulated Annealing**:\n",
    "1. Codifica um algoritmo capaz de fazer uma procura pelo ótimo global.\n",
    "2. Testa várias combinações de Temperatura Inicial e de método de atualização de Temperatura, e comenta sobre o impacto que esta atualização e valor tem no resultado final do modelo.\n",
    "3. Cria mais do que um conceito de vizinhança para a velocidade de convergência do modelo? \n",
    "    * Sugestão Vizinhança 1: A vizinhança de uma solução atual, é uma solução em que duas cidades trocam de posição (e.g. [1,2,3] passa para [1,3,2])\n",
    "    * Sugestão de Vizinhança 2: A vizinhança consiste em todas as cidades na mesma posição à excepção de uma que passa a ser a última cidade (e.g. [2,4,5,1,3] passa para [2,5,1,3,4]  \n",
    "3. O que acontece ao modelo se a atualização não for aleatória, mas passar a ser sempre aquela em que a distância é a maior? Este modelo tem melhores resultados?\n",
    "\n",
    "**Algoritmo Genético**:\n",
    "1. Codifica um algoritmo capaz de fazer uma procura pelo ótimo global.\n",
    "2. Explica a escolha de representação do cromossoma, e a maneira como as duas operações de reprodução foram codificadas:\n",
    "    * mutação\n",
    "    * cross-over\n",
    "3. O que acontece ao modelo se a atualização não for aleatória, mas passar a ser sempre aquela em que a distância é a maior? Este modelo tem melhores resultados?"
   ]
  }
 ],
 "metadata": {
  "kernelspec": {
   "display_name": "Python 3 (ipykernel)",
   "language": "python",
   "name": "python3"
  },
  "language_info": {
   "codemirror_mode": {
    "name": "ipython",
    "version": 3
   },
   "file_extension": ".py",
   "mimetype": "text/x-python",
   "name": "python",
   "nbconvert_exporter": "python",
   "pygments_lexer": "ipython3",
   "version": "3.11.5"
  }
 },
 "nbformat": 4,
 "nbformat_minor": 4
}
