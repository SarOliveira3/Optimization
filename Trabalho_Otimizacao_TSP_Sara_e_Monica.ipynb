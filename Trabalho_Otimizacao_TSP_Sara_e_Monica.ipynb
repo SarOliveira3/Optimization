{
 "cells": [
  {
   "cell_type": "markdown",
   "metadata": {},
   "source": [
    "# Problema do Caixeiro Viajante (Traveling Salesman Problem)\n"
   ]
  },
  {
   "cell_type": "markdown",
   "metadata": {},
   "source": [
    "### Libraries Needed"
   ]
  },
  {
   "cell_type": "code",
   "execution_count": 102,
   "metadata": {},
   "outputs": [],
   "source": [
    "import geopy.distance\n",
    "import numpy as np\n",
    "import matplotlib.pyplot as plt\n",
    "import pandas as pd"
   ]
  },
  {
   "cell_type": "code",
   "execution_count": 103,
   "metadata": {},
   "outputs": [],
   "source": [
    "np.random.seed(4)"
   ]
  },
  {
   "cell_type": "markdown",
   "metadata": {},
   "source": [
    "## Criação do Dataset"
   ]
  },
  {
   "cell_type": "code",
   "execution_count": 123,
   "metadata": {},
   "outputs": [],
   "source": [
    "## Funções para criarem coordenadas e distâncias\n",
    "def give_me_coordinates(start_lat, start_lon, max_delta):  \n",
    "    \"\"\"Gera coordenadas geográficas aleatórias:\n",
    "    \n",
    "     Parâmetros:\n",
    "    - start_lat: coordenadas latitudinais iniciais (float)\n",
    "    - start_lon: coordenadas longitudinais iniciais (float)\n",
    "    - max_delta: desvio máximo permitido para gerar coordenadas a partir das coordenadas latitudinais e longitudinais iniciais.\n",
    "    \n",
    "    Return: par de coordenadas geográficas aleatórias (latitude e longitude)\n",
    "    \"\"\"        \n",
    "    \n",
    "    lat = start_lat + np.random.rand() * max_delta\n",
    "    lon = start_lon + np.random.rand() * max_delta\n",
    "    \n",
    "    return (lat, lon)\n",
    "    \n",
    "def give_me_distance(start, end, var = 1):\n",
    "    \"\"\"Calcula a distância geodésica entre dois pontos e adiciona um pequeno valor aleatório.\n",
    "    \n",
    "    Parâmetros:\n",
    "    - start: coordenadas do ponto inicial (tuple)\n",
    "    - end: coordenadas do ponto final (tuple)\n",
    "    - var: valor aleatório adicionado à distância.\n",
    "    \n",
    "    Return: Distância geodésica com valor aleatório adicionado em quilómetros.\n",
    "    \"\"\"\n",
    "    d = geopy.distance.geodesic(start, end).km\n",
    "    return d * (1+np.random.randn()/10)\n",
    "\n",
    "def create_tsp(number_of_cities, start_lat, start_lon, max_delta = 2):\n",
    "    \"\"\" Cria uma matriz de distâncias entre cidades.\n",
    "    \n",
    "    Parâmetros:\n",
    "    - number_of_cities: número de cidades (int)\n",
    "    - start_lat: latitude inicial \n",
    "    - start_lon: longitude inicial\n",
    "    - max_delta: desvio máximo permitido para gerar coordenadas aleatórias.\n",
    "    \n",
    "    Returns: Matriz de distância entre as cidades.\n",
    "    \"\"\"\n",
    "    \n",
    "    city_locations = [give_me_coordinates(start_lat, start_lon, max_delta) for _ in range(number_of_cities)]\n",
    "    total_distances = []\n",
    "    for start in city_locations:\n",
    "        distances = []\n",
    "        for finish in city_locations:\n",
    "            distances.append(give_me_distance(start, finish))\n",
    "        total_distances.append(distances)\n",
    "    return total_distances\n",
    "        "
   ]
  },
  {
   "cell_type": "code",
   "execution_count": 124,
   "metadata": {},
   "outputs": [],
   "source": [
    "# criar variável 'distances' com 10 cidades, latitude inicial = 50 e longitude inicial = 20.\n",
    "distances = create_tsp(10,50,20)\n"
   ]
  },
  {
   "cell_type": "markdown",
   "metadata": {},
   "source": [
    "## Função Objectivo (Sugestão)"
   ]
  },
  {
   "cell_type": "code",
   "execution_count": 125,
   "metadata": {},
   "outputs": [],
   "source": [
    "# Criação de lista com ordem das cidades para iniciar a função\n",
    "solucao_candidata = np.random.choice(10, 10, replace=False)"
   ]
  },
  {
   "cell_type": "code",
   "execution_count": 126,
   "metadata": {},
   "outputs": [],
   "source": [
    "def objective_function(distances,solucao_candidata):\n",
    "    \"\"\" Calcula a função objetivo para a solução candidata.\n",
    "    \n",
    "    Parâmetros: \n",
    "    distances:Matriz de distância entre as cidades (list)\n",
    "    solucao_candidata: lista com ordem das cidades inicial\n",
    "    \n",
    "    Returns: valor da função objetivo para a solução candidata.\n",
    "    \"\"\"\n",
    "    last_city = solucao_candidata[0]\n",
    "    total_distance = 0\n",
    "    for city in solucao_candidata:\n",
    "        total_distance += distances[last_city][city]\n",
    "        last_city = city\n",
    "    total_distance += distances[last_city][solucao_candidata[0]] # por ultimo regressamos à cidade original\n",
    "    return total_distance"
   ]
  },
  {
   "cell_type": "code",
   "execution_count": 127,
   "metadata": {},
   "outputs": [
    {
     "data": {
      "text/plain": [
       "996.9895678634743"
      ]
     },
     "execution_count": 127,
     "metadata": {},
     "output_type": "execute_result"
    }
   ],
   "source": [
    "objective_function(distances, solucao_candidata)"
   ]
  },
  {
   "cell_type": "markdown",
   "metadata": {},
   "source": [
    "## Simulated Annealing"
   ]
  },
  {
   "cell_type": "markdown",
   "metadata": {},
   "source": [
    "#### Pergunta 1. \n",
    "Codifica um algoritmo capaz de fazer uma procura pelo ótimo global."
   ]
  },
  {
   "cell_type": "code",
   "execution_count": 128,
   "metadata": {},
   "outputs": [],
   "source": [
    "#sugestão vizinhança 1\n",
    "def generate_neighbour(solution):\n",
    "    \"\"\"Gera um vizinho a partir da troca de duas cidades na solução candidata.\n",
    "    \n",
    "    Parâmetros: \n",
    "    - solution: lista com solução candidata (list)\n",
    "    \n",
    "    Returns: Lista com cidades com troca de duas cidades a partir da solução candidata inicial.\n",
    "    \"\"\"\n",
    "    # Implementa uma perturbação simples na solução trocando duas cidades de posição\n",
    "    neighbour = solution.copy()\n",
    "    idx1, idx2 = np.random.choice(len(solution), size=2, replace=False)\n",
    "    neighbour[idx1], neighbour[idx2] = neighbour[idx2], neighbour[idx1]\n",
    "    return neighbour"
   ]
  },
  {
   "cell_type": "code",
   "execution_count": 129,
   "metadata": {},
   "outputs": [],
   "source": [
    "def simulated_annealing(distances, initial_solution, initial_temperature, cooling_rate, num_iterations):\n",
    "    \"\"\" Algoritmo que utiliza simullate annealing para encontrar solução ótima num Problema do Caixeiro Viajante.\n",
    "\n",
    "    Parâmetros:\n",
    "    - distances: Matriz de distâncias entre as cidades. (list)\n",
    "    - initial_solution: solução candidata inicial (list)\n",
    "    - initial_temperature: Temperatura inicial (float)\n",
    "    - cooling_rate: Taxa de arrefecimento (float)\n",
    "    - num_iterations (int): Número de iterações a serem realizadas.\n",
    "\n",
    "    Returns: Melhor solução para o algoritmo. (list)\n",
    "    \"\"\"\n",
    "    current_solution = initial_solution\n",
    "    best_solution = current_solution\n",
    "    temperature = initial_temperature\n",
    "\n",
    "    for iteration in range(num_iterations):\n",
    "        neighbour_solution = generate_neighbour(current_solution)\n",
    "        current_cost = objective_function(distances, current_solution)\n",
    "        neighbour_cost = objective_function(distances, neighbour_solution)\n",
    "\n",
    "        if neighbour_cost < current_cost or np.random.rand() < np.exp((current_cost - neighbour_cost) / temperature):\n",
    "            current_solution = neighbour_solution\n",
    "\n",
    "        if neighbour_cost < objective_function(distances, best_solution):\n",
    "            best_solution = neighbour_solution\n",
    "\n",
    "        temperature *= cooling_rate\n",
    "\n",
    "    return best_solution"
   ]
  },
  {
   "cell_type": "code",
   "execution_count": 130,
   "metadata": {},
   "outputs": [
    {
     "name": "stdout",
     "output_type": "stream",
     "text": [
      "Melhor solução: [3 4 0 1 7 6 9 5 8 2]\n",
      "Distância da melhor solução: 464.1437936111567\n"
     ]
    }
   ],
   "source": [
    "# Exemplo de uso\n",
    "num_cities = 10\n",
    "start_lat, start_lon = 50, 20\n",
    "max_delta = 2\n",
    "\n",
    "city_locations = [give_me_coordinates(start_lat, start_lon, max_delta) for _ in range(num_cities)]\n",
    "distances = [[give_me_distance(city_locations[i], city_locations[j]) for j in range(num_cities)] for i in range(num_cities)]\n",
    "\n",
    "initial_solution = np.random.permutation(num_cities)\n",
    "initial_temperature = 1000.0\n",
    "cooling_rate = 0.95\n",
    "num_iterations = 20000\n",
    "\n",
    "best_solution = simulated_annealing(distances, initial_solution, initial_temperature, cooling_rate, num_iterations)\n",
    "best_distance = objective_function(distances, best_solution)\n",
    "\n",
    "print(\"Melhor solução:\", best_solution)\n",
    "print(\"Distância da melhor solução:\", best_distance)"
   ]
  },
  {
   "cell_type": "code",
   "execution_count": 131,
   "metadata": {},
   "outputs": [
    {
     "data": {
      "image/png": "[encoded data removed]",
      "text/plain": [
       "<Figure size 640x480 with 1 Axes>"
      ]
     },
     "metadata": {},
     "output_type": "display_data"
    }
   ],
   "source": [
    "# Função para fazer plot das cidades e da rota com a melhor solução:\n",
    "def plot_solution(city_locations, solution):\n",
    "    # Descompacta as coordenadas das cidades\n",
    "    lats, lons = zip(*city_locations)\n",
    "    \n",
    "    # Adiciona a primeira cidade no final para fechar o ciclo\n",
    "    lats += (lats[0],)\n",
    "    lons += (lons[0],)\n",
    "    \n",
    "    # Plota as cidades\n",
    "    plt.scatter(lons, lats, color='red', marker='o', label='Cidades')\n",
    "    \n",
    "    # Plota a rota\n",
    "    plt.plot(np.take(lons, solution), np.take(lats, solution), linestyle='-', marker='o', color='blue', label='Rota')\n",
    "    \n",
    "    # Adiciona rótulos para as cidades\n",
    "    for i, txt in enumerate(range(len(city_locations))):\n",
    "        plt.annotate(txt, (lons[i], lats[i]), fontsize=8, ha='right', va='bottom')\n",
    "    \n",
    "    # Adiciona legendas e títulos\n",
    "    plt.legend()\n",
    "    plt.title('Representação Gráfica da Melhor Solução')\n",
    "    plt.xlabel('Longitude')\n",
    "    plt.ylabel('Latitude')\n",
    "    \n",
    "    # Exibe o gráfico\n",
    "    plt.show()\n",
    "\n",
    "# Exemplo de uso\n",
    "plot_solution(city_locations, best_solution)"
   ]
  },
  {
   "cell_type": "markdown",
   "metadata": {},
   "source": [
    "#### Pergunta 2. \n",
    "Testa várias combinações de Temperatura Inicial e de método de atualização de Temperatura, e comenta sobre o impacto que esta atualização e valor tem no resultado final do modelo."
   ]
  },
  {
   "cell_type": "code",
   "execution_count": 132,
   "metadata": {},
   "outputs": [
    {
     "name": "stdout",
     "output_type": "stream",
     "text": [
      "Initial_temperature 10000, Colling Rate: 0.95\n",
      "Melhor Solução: [8 2 4 0 9 6 1 7 3 5]\n",
      "Distância da Melhor Solução: 587.1597224900997\n",
      "\n",
      "\n",
      "Initial_temperature 10000, Colling Rate: 0.98\n",
      "Melhor Solução: [9 6 4 0 1 7 3 2 8 5]\n",
      "Distância da Melhor Solução: 468.863062139674\n",
      "\n",
      "\n",
      "Initial_temperature 10000, Colling Rate: 0.99\n",
      "Melhor Solução: [6 4 0 1 7 3 2 8 5 9]\n",
      "Distância da Melhor Solução: 468.863062139674\n",
      "\n",
      "\n",
      "Initial_temperature 5000, Colling Rate: 0.95\n",
      "Melhor Solução: [0 1 7 6 9 5 8 2 3 4]\n",
      "Distância da Melhor Solução: 464.14379361115675\n",
      "\n",
      "\n",
      "Initial_temperature 5000, Colling Rate: 0.98\n",
      "Melhor Solução: [3 2 8 5 9 6 1 7 0 4]\n",
      "Distância da Melhor Solução: 455.9795780229215\n",
      "\n",
      "\n",
      "Initial_temperature 5000, Colling Rate: 0.99\n",
      "Melhor Solução: [3 2 8 5 9 6 4 0 1 7]\n",
      "Distância da Melhor Solução: 468.86306213967407\n",
      "\n",
      "\n",
      "Initial_temperature 1000, Colling Rate: 0.95\n",
      "Melhor Solução: [0 4 3 2 8 5 9 6 1 7]\n",
      "Distância da Melhor Solução: 455.97957802292143\n",
      "\n",
      "\n",
      "Initial_temperature 1000, Colling Rate: 0.98\n",
      "Melhor Solução: [4 0 1 7 6 9 5 8 2 3]\n",
      "Distância da Melhor Solução: 464.14379361115675\n",
      "\n",
      "\n",
      "Initial_temperature 1000, Colling Rate: 0.99\n",
      "Melhor Solução: [4 0 1 7 6 9 5 8 2 3]\n",
      "Distância da Melhor Solução: 464.14379361115675\n",
      "\n",
      "\n"
     ]
    }
   ],
   "source": [
    "def run_sa_experiments(distances, initial_solution, initial_temperatures, cooling_rates, num_iterations):\n",
    "    \"\"\" Experimenta várias combinações de temperatura inicial e de método de atualização da mesma.\n",
    "\n",
    "    Parâmetros:\n",
    "    - distances: Matriz de distâncias entre as cidades. (list)\n",
    "    - initial_solution: Solução candidata inicial. (list)\n",
    "    - initial_temperatures: lista de temperaturas iniciais. (list)\n",
    "    - cooling_rates: Lista de taxas de arrefecimento. (list)\n",
    "    - num_iterations: Número de iterações. (int)\n",
    "\n",
    "    Returns: Lista com resultados.\n",
    "    \"\"\"\n",
    "    results = []\n",
    "\n",
    "    for initial_temp in initial_temperatures:\n",
    "        for cooling_rate in cooling_rates:\n",
    "            # Executa o Simulated Annealing para uma combinação específica de temperatura inicial e taxa de arrefecimento\n",
    "            best_solution = simulated_annealing(distances, initial_solution, initial_temp, cooling_rate, num_iterations)\n",
    "            best_distance = objective_function(distances, best_solution)\n",
    "\n",
    "            # Armazena os resultados\n",
    "            results.append({\n",
    "                'initial_temp': initial_temp,\n",
    "                'cooling_rate': cooling_rate,\n",
    "                'best_solution': best_solution,\n",
    "                'best_distance': best_distance\n",
    "            })\n",
    "\n",
    "    return results\n",
    "\n",
    "# Configurações\n",
    "initial_temperatures = [10000, 5000, 1000]\n",
    "cooling_rates = [0.95, 0.98, 0.99]\n",
    "num_iterations = 10000\n",
    "\n",
    "# Executa experiências\n",
    "experiment_results = run_sa_experiments(distances, initial_solution, initial_temperatures, cooling_rates, num_iterations)\n",
    "\n",
    "# Imprime os resultados\n",
    "for result in experiment_results:\n",
    "    print(f\"Initial_temperature {result['initial_temp']}, Colling Rate: {result['cooling_rate']}\")\n",
    "    print(f\"Melhor Solução: {result['best_solution']}\")\n",
    "    print(f\"Distância da Melhor Solução: {result['best_distance']}\")\n",
    "    print(\"\\n\")"
   ]
  },
  {
   "cell_type": "markdown",
   "metadata": {},
   "source": [
    "##### Resposta: \n",
    "O comportamento do modelo na procura do ótimo global altera-se de acordo com os parâmetros que definem a temperatura inicial e o método de atualização de temperatura que chamamos taxa de arrefecimento. \n",
    "Experiências com temperaturas muito altas dão saltos maiores na procura do ótimo global o que se reflete em distâncias maiores entre as cidades enquanto que a combinação de taxas de arrefecimento fazem uma procura mais local para encontrar o mínimo da solução. \n",
    "O ideal é fazer várias experiências para perceber que melhor combinações destes dois parâmetros funcionam melhor, no nosso caso, a temperatura mais baixo (1000) com a taxa de arrefecimento mais baixa conseguiu encontrar a solução com a distância mais baixa entre as cidades relativamente a outras combinações. \n"
   ]
  },
  {
   "cell_type": "markdown",
   "metadata": {},
   "source": [
    "##### Pergunta 3. \n",
    "Cria mais do que um conceito de vizinhança para a velocidade de convergência do modelo?\n",
    "\n",
    "Sugestão Vizinhança 1: A vizinhança de uma solução atual, é uma solução em que duas cidades trocam de posição (e.g. [1,2,3] passa para [1,3,2])\n",
    "\n",
    "Sugestão de Vizinhança 2: A vizinhança consiste em todas as cidades na mesma posição à excepção de uma que passa a ser a última cidade (e.g. [2,4,5,1,3] passa para [2,5,1,3,4]"
   ]
  },
  {
   "cell_type": "code",
   "execution_count": 133,
   "metadata": {},
   "outputs": [],
   "source": [
    "#sugestão de vizinhança 2\n",
    "def generate_neighbour_v2(solution):\n",
    "    \"\"\" Gera um vizinho a partir da troca de uma solução em que as cidades estão todas na mesma posição à exceção de uma que passa a ser a última cidade.\n",
    "    \n",
    "    Parâmetros: \n",
    "    - solution: lista com solução candidata (list)\n",
    "    \n",
    "    Returns: Lista com cidades que respeita a solução candidatura inicial à exceção de uma que passa para a última cidade.\n",
    "    \"\"\"\n",
    "    # Escolhe aleatoriamente uma cidade para ser movida para a última posição\n",
    "    idx = np.random.choice(len(solution), size=1, replace=False)[0]\n",
    "    \n",
    "    # Gera a nova solução com a cidade escolhida na última posição\n",
    "    neighbour = np.concatenate([solution[:idx], solution[idx+1:], [solution[idx]]])\n",
    "    \n",
    "    return neighbour"
   ]
  },
  {
   "cell_type": "code",
   "execution_count": 134,
   "metadata": {},
   "outputs": [],
   "source": [
    "def simulated_annealing_v2(distances, initial_solution, initial_temperature, cooling_rate, num_iterations):\n",
    "    \"\"\"\n",
    "    Executa várias experiências tendo em consideração várias temperaturas iniciais e taxas de arrefecimento.\n",
    "\n",
    "    Parâmetros:\n",
    "    - distances: Matriz de distâncias entre as cidades.\n",
    "    - initial_solution: Solução candidata inicial. (list)\n",
    "    - initial_temperatures: Lista de temperaturas iniciais a serem testadas. (list)\n",
    "    - cooling_rates: Lista de taxas de arrefecimento a serem testadas. (list)\n",
    "    - num_iterations: Número total de iterações. (int)\n",
    "\n",
    "    Returns: Lista com os resultados das experiências\n",
    "    \"\"\"\n",
    "    current_solution = solucao_candidata\n",
    "    best_solution = current_solution\n",
    "    temperature = initial_temperature\n",
    "\n",
    "    for iteration in range(num_iterations):\n",
    "        neighbour_solution = generate_neighbour_v2(current_solution)\n",
    "        current_cost = objective_function(distances, current_solution)\n",
    "        neighbour_cost = objective_function(distances, neighbour_solution)\n",
    "\n",
    "        if neighbour_cost < current_cost or np.random.rand() < np.exp((current_cost - neighbour_cost) / temperature):\n",
    "            current_solution = neighbour_solution\n",
    "\n",
    "        if neighbour_cost < objective_function(distances, best_solution):\n",
    "            best_solution = neighbour_solution\n",
    "\n",
    "        temperature *= cooling_rate\n",
    "\n",
    "    return best_solution"
   ]
  },
  {
   "cell_type": "code",
   "execution_count": 135,
   "metadata": {},
   "outputs": [
    {
     "name": "stdout",
     "output_type": "stream",
     "text": [
      "Melhor solução: [3 9 7 2 8 0 5 4 6 1]\n",
      "Distância da melhor solução: 580.5223461183866\n"
     ]
    }
   ],
   "source": [
    "# Exemplo de uso\n",
    "num_cities = 10\n",
    "start_lat, start_lon = 50, 20\n",
    "max_delta = 2\n",
    "\n",
    "city_locations = [give_me_coordinates(start_lat, start_lon, max_delta) for _ in range(num_cities)]\n",
    "distances = [[give_me_distance(city_locations[i], city_locations[j]) for j in range(num_cities)] for i in range(num_cities)]\n",
    "\n",
    "initial_solution = solucao_candidata\n",
    "initial_temperature = 1000.0\n",
    "cooling_rate = 0.95\n",
    "num_iterations = 20000\n",
    "\n",
    "best_solution = simulated_annealing_v2(distances, initial_solution, initial_temperature, cooling_rate, num_iterations)\n",
    "best_distance = objective_function(distances, best_solution)\n",
    "\n",
    "print(\"Melhor solução:\", best_solution)\n",
    "print(\"Distância da melhor solução:\", best_distance)"
   ]
  },
  {
   "cell_type": "code",
   "execution_count": 136,
   "metadata": {},
   "outputs": [
    {
     "data": {
      "image/png": "[encoded data removed]",
      "text/plain": [
       "<Figure size 640x480 with 1 Axes>"
      ]
     },
     "metadata": {},
     "output_type": "display_data"
    }
   ],
   "source": [
    "# Função para fazer plot das cidades e da rota com a melhor solução:\n",
    "def plot_solution(city_locations, solution):\n",
    "    # Descompacta as coordenadas das cidades\n",
    "    lats, lons = zip(*city_locations)\n",
    "    \n",
    "    # Adiciona a primeira cidade no final para fechar o ciclo\n",
    "    lats += (lats[0],)\n",
    "    lons += (lons[0],)\n",
    "    \n",
    "    # Plota as cidades\n",
    "    plt.scatter(lons, lats, color='red', marker='o', label='Cidades')\n",
    "    \n",
    "    # Plota a rota\n",
    "    plt.plot(np.take(lons, solution), np.take(lats, solution), linestyle='-', marker='o', color='blue', label='Rota')\n",
    "    \n",
    "    # Adiciona rótulos para as cidades\n",
    "    for i, txt in enumerate(range(len(city_locations))):\n",
    "        plt.annotate(txt, (lons[i], lats[i]), fontsize=8, ha='right', va='bottom')\n",
    "    \n",
    "    # Adiciona legendas e títulos\n",
    "    plt.legend()\n",
    "    plt.title('Representação Gráfica da Melhor Solução')\n",
    "    plt.xlabel('Longitude')\n",
    "    plt.ylabel('Latitude')\n",
    "    \n",
    "    # Exibe o gráfico\n",
    "    plt.show()\n",
    "\n",
    "# Exemplo de uso\n",
    "plot_solution(city_locations, best_solution)"
   ]
  },
  {
   "cell_type": "markdown",
   "metadata": {},
   "source": [
    "##### Pergunta 4.\n",
    "O que acontece ao modelo se a atualização não for aleatória, mas passar a ser sempre aquela em que a distância é a maior? Este modelo tem melhores resultados?"
   ]
  },
  {
   "cell_type": "code",
   "execution_count": 137,
   "metadata": {},
   "outputs": [],
   "source": [
    "def generate_neighbour_bigger_distance(solution, distances):\n",
    "    \"\"\" Gera um vizinho a partir da troca da cidade com maior distância para a última cidade.\n",
    "    \n",
    "    Parâmetros: \n",
    "    - solution: lista com solução candidata (list)\n",
    "    - distances: Matriz com distâncias entre as cidades\n",
    "    \n",
    "    Returns: Lista com cidades que resulta da troca da cidade com maior distância para a última cidade.\n",
    "    \"\"\"\n",
    "    \n",
    "    max_distance = -1\n",
    "    max_distance_city = -1\n",
    "\n",
    "    for idx in range(len(solution)):\n",
    "        new_distance = distances[solution[idx]][solution[-1]]\n",
    "        if new_distance > max_distance:\n",
    "            max_distance = new_distance\n",
    "            max_distance_city = idx\n",
    "\n",
    "    # Gera a nova solução com a cidade escolhida na última posição\n",
    "    neighbour = np.concatenate([solution[:max_distance_city], solution[max_distance_city+1:], [solution[max_distance_city]]])\n",
    "    \n",
    "    return neighbour"
   ]
  },
  {
   "cell_type": "code",
   "execution_count": 140,
   "metadata": {},
   "outputs": [],
   "source": [
    "def simulated_annealing_bigger_distance(distances, initial_solution, initial_temperature, cooling_rate, num_iterations):\n",
    "    \"\"\"\n",
    "    Executa várias experiências tendo em consideração várias temperaturas iniciais e taxas de arrefecimento.\n",
    "\n",
    "    Parâmetros:\n",
    "    - distances: Matriz de distâncias entre as cidades.\n",
    "    - initial_solution: Solução candidata inicial. (list)\n",
    "    - initial_temperatures: Lista de temperaturas iniciais a serem testadas. (list)\n",
    "    - cooling_rates: Lista de taxas de arrefecimento a serem testadas. (list)\n",
    "    - num_iterations: Número total de iterações. (int)\n",
    "\n",
    "    Returns: Lista com os resultados das experiências\n",
    "    \"\"\"\n",
    "    current_solution = solucao_candidata\n",
    "    best_solution = current_solution\n",
    "    temperature = initial_temperature\n",
    "\n",
    "    for iteration in range(num_iterations):\n",
    "        neighbour_solution = generate_neighbour_bigger_distance(current_solution, distances)\n",
    "        current_cost = objective_function(distances, current_solution)\n",
    "        neighbour_cost = objective_function(distances, neighbour_solution)\n",
    "\n",
    "        if neighbour_cost < current_cost or np.random.rand() < np.exp((current_cost - neighbour_cost) / temperature):\n",
    "            current_solution = neighbour_solution\n",
    "\n",
    "        if neighbour_cost < objective_function(distances, best_solution):\n",
    "            best_solution = neighbour_solution\n",
    "\n",
    "        temperature *= cooling_rate\n",
    "\n",
    "    return best_solution"
   ]
  },
  {
   "cell_type": "code",
   "execution_count": 141,
   "metadata": {},
   "outputs": [
    {
     "name": "stdout",
     "output_type": "stream",
     "text": [
      "Melhor solução: [1 8 2 0 6 5 3 4 7 9]\n",
      "Distância da melhor solução: 779.8160917309866\n"
     ]
    }
   ],
   "source": [
    "# Exemplo de uso\n",
    "num_cities = 10\n",
    "start_lat, start_lon = 50, 20\n",
    "max_delta = 2\n",
    "\n",
    "city_locations = [give_me_coordinates(start_lat, start_lon, max_delta) for _ in range(num_cities)]\n",
    "distances = [[give_me_distance(city_locations[i], city_locations[j]) for j in range(num_cities)] for i in range(num_cities)]\n",
    "\n",
    "initial_solution = solucao_candidata_fixa\n",
    "initial_temperature = 1000.0\n",
    "cooling_rate = 0.95\n",
    "num_iterations = 20000\n",
    "\n",
    "best_solution = simulated_annealing_bigger_distance(distances, initial_solution, initial_temperature, cooling_rate, num_iterations)\n",
    "best_distance = objective_function(distances, best_solution)\n",
    "\n",
    "print(\"Melhor solução:\", best_solution)\n",
    "print(\"Distância da melhor solução:\", best_distance)"
   ]
  },
  {
   "cell_type": "markdown",
   "metadata": {},
   "source": [
    "#### Resposta: \n",
    "À semelhança da escolha da temperatura inicial e taxa de arrefecimento, a escolha da estratégia de vizinhança tem impacto no desempenho do algoritmo Simulated Annealing.  \n",
    "Como podemos ver no exemplo em cima, a solução dada tem uma distância maior dos que as estratégias anteriores onde usamos a aleatoriedade para escolher o vizinho, o que reflete uma pior performance do algoritmo.\n",
    "Com estes resultados, podemos concluir que escolher o vizinho limitando a alteração de uma cidade pela distância maior afeta a capacidade do algoritmo procurar ótimos globais, limitando-o à procura de ótimos locais. Ou seja, os resultados podem não ser tão bons quanto seriam se procurássemos mais amplamente a solução. "
   ]
  },
  {
   "cell_type": "code",
   "execution_count": null,
   "metadata": {},
   "outputs": [],
   "source": []
  }
 ],
 "metadata": {
  "kernelspec": {
   "display_name": "Python 3 (ipykernel)",
   "language": "python",
   "name": "python3"
  },
  "language_info": {
   "codemirror_mode": {
    "name": "ipython",
    "version": 3
   },
   "file_extension": ".py",
   "mimetype": "text/x-python",
   "name": "python",
   "nbconvert_exporter": "python",
   "pygments_lexer": "ipython3",
   "version": "3.11.5"
  }
 },
 "nbformat": 4,
 "nbformat_minor": 4
}
