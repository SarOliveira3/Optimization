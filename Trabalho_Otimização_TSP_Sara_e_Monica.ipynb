{
 "cells": [
  {
   "cell_type": "markdown",
   "metadata": {},
   "source": [
    "# Problema do Caixeiro Viajante (Traveling Salesman Problem)\n"
   ]
  },
  {
   "cell_type": "markdown",
   "metadata": {},
   "source": [
    "### Libraries Needed"
   ]
  },
  {
   "cell_type": "code",
   "execution_count": 40,
   "metadata": {},
   "outputs": [],
   "source": [
    "import geopy.distance\n",
    "import numpy as np\n",
    "import matplotlib.pyplot as plt\n",
    "import pandas as pd"
   ]
  },
  {
   "cell_type": "markdown",
   "metadata": {},
   "source": [
    "## Criação do Dataset"
   ]
  },
  {
   "cell_type": "code",
   "execution_count": 41,
   "metadata": {},
   "outputs": [],
   "source": [
    "## Funções para criarem coordenadas e distâncias\n",
    "def give_me_coordinates(start_lat, start_lon, max_delta):    \n",
    "    lat = start_lat + np.random.rand() * max_delta\n",
    "    lon = start_lon + np.random.rand() * max_delta\n",
    "    \n",
    "    return (lat, lon)\n",
    "    \n",
    "def give_me_distance(start, end, var = 1):\n",
    "    d = geopy.distance.geodesic(start, end).km\n",
    "    return d * (1+np.random.randn()/10)\n",
    "\n",
    "def create_tsp(number_of_cities, start_lat, start_lon, max_delta = 2):\n",
    "    \n",
    "    city_locations = [give_me_coordinates(start_lat, start_lon, max_delta) for _ in range(number_of_cities)]\n",
    "    total_distances = []\n",
    "    for start in city_locations:\n",
    "        distances = []\n",
    "        for finish in city_locations:\n",
    "            distances.append(give_me_distance(start, finish))\n",
    "        total_distances.append(distances)\n",
    "    return total_distances\n",
    "        "
   ]
  },
  {
   "cell_type": "code",
   "execution_count": 44,
   "metadata": {},
   "outputs": [],
   "source": [
    "distances = create_tsp(10,50,20)\n",
    "\n",
    "# Converte a matriz em um DataFrame pandas\n",
    "df = pd.DataFrame(distances, columns=[f'City{i}' for i in range(1, 11)])\n",
    "\n",
    "# Salva o DataFrame em um arquivo CSV\n",
    "df.to_csv(r'C:\\Users\\ricky\\Desktop\\Optimization\\dataset_tsp.csv', index=False)"
   ]
  },
  {
   "cell_type": "code",
   "execution_count": 46,
   "metadata": {},
   "outputs": [
    {
     "data": {
      "text/plain": [
       "[[0.0,\n",
       "  79.08656133640348,\n",
       "  110.56915300038668,\n",
       "  128.94611185256426,\n",
       "  114.77156744587276,\n",
       "  80.11475721861896,\n",
       "  138.75398270031314,\n",
       "  98.3521333454786,\n",
       "  57.457682216746,\n",
       "  46.88593363252492],\n",
       " [73.30791166147397,\n",
       "  0.0,\n",
       "  61.13386973155776,\n",
       "  195.602064331248,\n",
       "  159.43721658516128,\n",
       "  147.21182138089205,\n",
       "  188.4755386026269,\n",
       "  152.2047625373447,\n",
       "  126.93328837442796,\n",
       "  136.02796027387848],\n",
       " [88.68876259426413,\n",
       "  59.83276244026648,\n",
       "  0.0,\n",
       "  202.1044594574724,\n",
       "  141.6839547773463,\n",
       "  114.944434852194,\n",
       "  164.9495059573671,\n",
       "  123.52825165381444,\n",
       "  120.30795292910447,\n",
       "  118.04258860718755],\n",
       " [152.8662274379167,\n",
       "  182.80055859599847,\n",
       "  205.2052744496128,\n",
       "  0.0,\n",
       "  68.05590175786934,\n",
       "  66.07151955745695,\n",
       "  30.14524557668356,\n",
       "  71.1344605995161,\n",
       "  96.09688355019942,\n",
       "  101.46352313573472],\n",
       " [121.6661316813106,\n",
       "  181.22839624118416,\n",
       "  154.68216322407278,\n",
       "  63.707339596186976,\n",
       "  0.0,\n",
       "  112.92713669905476,\n",
       "  90.3840603584906,\n",
       "  32.38224144222839,\n",
       "  91.80041933572268,\n",
       "  145.05105955580683],\n",
       " [71.89145708488931,\n",
       "  129.93241092629262,\n",
       "  145.4960332322839,\n",
       "  83.16470242728424,\n",
       "  96.63347457941478,\n",
       "  0.0,\n",
       "  39.71057979341679,\n",
       "  65.5446451543397,\n",
       "  27.672733793511064,\n",
       "  36.4947142204731],\n",
       " [117.10480886295448,\n",
       "  177.6260073547294,\n",
       "  179.7119485763418,\n",
       "  36.359738277857886,\n",
       "  97.28841931141685,\n",
       "  52.081667646019326,\n",
       "  0.0,\n",
       "  79.77286252165182,\n",
       "  69.07686735945452,\n",
       "  83.9381579060595],\n",
       " [105.98800128504196,\n",
       "  147.47991129130784,\n",
       "  131.32308673538768,\n",
       "  71.35298189449692,\n",
       "  33.505479499697095,\n",
       "  73.05213982738788,\n",
       "  86.31815226368062,\n",
       "  0.0,\n",
       "  66.01555037528115,\n",
       "  94.82301813801855],\n",
       " [52.95690430795392,\n",
       "  128.17256687946565,\n",
       "  115.546884335288,\n",
       "  81.15550228339426,\n",
       "  82.9238305271267,\n",
       "  28.67591979750982,\n",
       "  65.32363738172789,\n",
       "  62.85827607015751,\n",
       "  0.0,\n",
       "  40.41132438236706],\n",
       " [48.67889000608233,\n",
       "  124.56511249275016,\n",
       "  150.75623991540837,\n",
       "  114.42415616291296,\n",
       "  129.10851754138488,\n",
       "  39.66359374004878,\n",
       "  92.366421264572,\n",
       "  102.7303624710888,\n",
       "  34.50130777037588,\n",
       "  0.0]]"
      ]
     },
     "execution_count": 46,
     "metadata": {},
     "output_type": "execute_result"
    }
   ],
   "source": [
    "# Carrega o DataFrame \n",
    "df_tsp = pd.read_csv(r'C:\\Users\\ricky\\Desktop\\Optimization\\dataset_tsp.csv')\n",
    "\n",
    "# Converte o DataFrame em uma matriz\n",
    "fixed_distances = df_tsp.values.tolist()\n",
    "fixed_distances"
   ]
  },
  {
   "cell_type": "markdown",
   "metadata": {},
   "source": [
    "## Função Objectivo (Sugestão)"
   ]
  },
  {
   "cell_type": "code",
   "execution_count": 12,
   "metadata": {},
   "outputs": [
    {
     "data": {
      "text/plain": [
       "array([2, 4, 3, 6, 9, 0, 5, 8, 7, 1])"
      ]
     },
     "execution_count": 12,
     "metadata": {},
     "output_type": "execute_result"
    }
   ],
   "source": [
    "solucao_candidata = np.random.choice(10, 10, replace=False)\n",
    "solucao_candidata"
   ]
  },
  {
   "cell_type": "code",
   "execution_count": 13,
   "metadata": {},
   "outputs": [],
   "source": [
    "#Para garantir que a solução candidata não é dinâmica, criamos uma variável com a solução inicial gerada no passo anterior.\n",
    "solucao_candidata_fixa = np.array([6, 5, 9, 3, 8, 7, 2, 4, 0, 1])"
   ]
  },
  {
   "cell_type": "code",
   "execution_count": 16,
   "metadata": {},
   "outputs": [],
   "source": [
    "def objective_function(distances,solucao_candidata_fixa):\n",
    "    last_city = solucao_candidata[0]\n",
    "    total_distance = 0\n",
    "    for city in solucao_candidata_fixa:\n",
    "        total_distance += distances[last_city][city]\n",
    "        last_city = city\n",
    "    total_distance += distances[last_city][solucao_candidata_fixa[0]] # por ultimo regressamos à cidade original\n",
    "    return total_distance"
   ]
  },
  {
   "cell_type": "code",
   "execution_count": 17,
   "metadata": {},
   "outputs": [
    {
     "data": {
      "text/plain": [
       "885.9628737250193"
      ]
     },
     "execution_count": 17,
     "metadata": {},
     "output_type": "execute_result"
    }
   ],
   "source": [
    "objective_function(distances, solucao_candidata_fixa)"
   ]
  },
  {
   "cell_type": "markdown",
   "metadata": {},
   "source": [
    "## Simulated Annealing"
   ]
  },
  {
   "cell_type": "markdown",
   "metadata": {},
   "source": [
    "#### 1. Codifica um algoritmo capaz de fazer uma procura pelo ótimo global."
   ]
  },
  {
   "cell_type": "code",
   "execution_count": 18,
   "metadata": {},
   "outputs": [],
   "source": [
    "#sugestão vizinhança 1\n",
    "def generate_neighbour(solution):\n",
    "    # Implementa uma perturbação simples na solução trocando duas cidades de posição\n",
    "    neighbour = solution.copy()\n",
    "    idx1, idx2 = np.random.choice(len(solution), size=2, replace=False)\n",
    "    neighbour[idx1], neighbour[idx2] = neighbour[idx2], neighbour[idx1]\n",
    "    return neighbour"
   ]
  },
  {
   "cell_type": "code",
   "execution_count": 19,
   "metadata": {},
   "outputs": [],
   "source": [
    "def simulated_annealing(distances, initial_solution, initial_temperature, cooling_rate, num_iterations):\n",
    "    current_solution = initial_solution\n",
    "    best_solution = current_solution\n",
    "    temperature = initial_temperature\n",
    "\n",
    "    for iteration in range(num_iterations):\n",
    "        neighbour_solution = generate_neighbour(current_solution)\n",
    "        current_cost = objective_function(distances, current_solution)\n",
    "        neighbour_cost = objective_function(distances, neighbour_solution)\n",
    "\n",
    "        if neighbour_cost < current_cost or np.random.rand() < np.exp((current_cost - neighbour_cost) / temperature):\n",
    "            current_solution = neighbour_solution\n",
    "\n",
    "        if neighbour_cost < objective_function(distances, best_solution):\n",
    "            best_solution = neighbour_solution\n",
    "\n",
    "        temperature *= cooling_rate\n",
    "\n",
    "    return best_solution"
   ]
  },
  {
   "cell_type": "code",
   "execution_count": 57,
   "metadata": {},
   "outputs": [
    {
     "name": "stdout",
     "output_type": "stream",
     "text": [
      "Melhor solução: [7 1 6 3 2 4 0 5 8 9]\n",
      "Distância da melhor solução: 614.7153261541242\n"
     ]
    }
   ],
   "source": [
    "# Exemplo de uso\n",
    "num_cities = 10\n",
    "start_lat, start_lon = 50, 20\n",
    "max_delta = 2\n",
    "\n",
    "city_locations = [give_me_coordinates(start_lat, start_lon, max_delta) for _ in range(num_cities)]\n",
    "distances = [[give_me_distance(city_locations[i], city_locations[j]) for j in range(num_cities)] for i in range(num_cities)]\n",
    "\n",
    "initial_solution = np.random.permutation(num_cities)\n",
    "initial_temperature = 1000.0\n",
    "cooling_rate = 0.95\n",
    "num_iterations = 20000\n",
    "\n",
    "best_solution = simulated_annealing(distances, initial_solution, initial_temperature, cooling_rate, num_iterations)\n",
    "best_distance = objective_function(distances, best_solution)\n",
    "\n",
    "print(\"Melhor solução:\", best_solution)\n",
    "print(\"Distância da melhor solução:\", best_distance)"
   ]
  },
  {
   "cell_type": "markdown",
   "metadata": {},
   "source": [
    "#### 2. Testa várias combinações de Temperatura Inicial e de método de atualização de Temperatura, e comenta sobre o impacto que esta atualização e valor tem no resultado final do modelo."
   ]
  },
  {
   "cell_type": "code",
   "execution_count": 60,
   "metadata": {},
   "outputs": [
    {
     "name": "stdout",
     "output_type": "stream",
     "text": [
      "Initial_temperature 1000, Colling Rate: 0.95\n",
      "Melhor Solução: [2 5 8 9 1 7 6 3 0 4]\n",
      "Distância da Melhor Solução: 580.6678912217213\n",
      "\n",
      "\n",
      "Initial_temperature 1000, Colling Rate: 0.98\n",
      "Melhor Solução: [5 8 9 1 0 4 3 6 7 2]\n",
      "Distância da Melhor Solução: 708.4151515126968\n",
      "\n",
      "\n",
      "Initial_temperature 1000, Colling Rate: 0.99\n",
      "Melhor Solução: [2 1 9 8 5 7 6 3 0 4]\n",
      "Distância da Melhor Solução: 611.5256994052944\n",
      "\n",
      "\n",
      "Initial_temperature 5000, Colling Rate: 0.95\n",
      "Melhor Solução: [6 3 7 2 4 0 5 8 9 1]\n",
      "Distância da Melhor Solução: 605.6642785693437\n",
      "\n",
      "\n",
      "Initial_temperature 5000, Colling Rate: 0.98\n",
      "Melhor Solução: [2 0 4 3 6 1 9 8 5 7]\n",
      "Distância da Melhor Solução: 562.8379367470096\n",
      "\n",
      "\n",
      "Initial_temperature 5000, Colling Rate: 0.99\n",
      "Melhor Solução: [2 0 4 3 6 7 1 9 8 5]\n",
      "Distância da Melhor Solução: 559.8218621780866\n",
      "\n",
      "\n",
      "Initial_temperature 10000, Colling Rate: 0.95\n",
      "Melhor Solução: [9 1 7 6 3 2 4 0 5 8]\n",
      "Distância da Melhor Solução: 706.3434305332778\n",
      "\n",
      "\n",
      "Initial_temperature 10000, Colling Rate: 0.98\n",
      "Melhor Solução: [1 9 8 5 2 0 4 3 6 7]\n",
      "Distância da Melhor Solução: 632.0470095053496\n",
      "\n",
      "\n",
      "Initial_temperature 10000, Colling Rate: 0.99\n",
      "Melhor Solução: [4 0 5 8 9 1 7 6 3 2]\n",
      "Distância da Melhor Solução: 612.3028204114495\n",
      "\n",
      "\n"
     ]
    }
   ],
   "source": [
    "def run_sa_experiments(distances, initial_solution, initial_temperatures, cooling_rates, num_iterations):\n",
    "    results = []\n",
    "\n",
    "    for initial_temp in initial_temperatures:\n",
    "        for cooling_rate in cooling_rates:\n",
    "            # Executa o Simulated Annealing para uma combinação específica de temperatura inicial e taxa de resfriamento\n",
    "            best_solution = simulated_annealing(distances, initial_solution, initial_temp, cooling_rate, num_iterations)\n",
    "            best_distance = objective_function(distances, best_solution)\n",
    "\n",
    "            # Armazena os resultados\n",
    "            results.append({\n",
    "                'initial_temp': initial_temp,\n",
    "                'cooling_rate': cooling_rate,\n",
    "                'best_solution': best_solution,\n",
    "                'best_distance': best_distance\n",
    "            })\n",
    "\n",
    "    return results\n",
    "\n",
    "# Configurações para experimentos\n",
    "initial_temperatures = [1000, 5000, 10000]\n",
    "cooling_rates = [0.95, 0.98, 0.99]\n",
    "num_iterations = 10000\n",
    "\n",
    "# Executa experimentos\n",
    "experiment_results = run_sa_experiments(distances, initial_solution, initial_temperatures, cooling_rates, num_iterations)\n",
    "\n",
    "# Imprime os resultados\n",
    "for result in experiment_results:\n",
    "    print(f\"Initial_temperature {result['initial_temp']}, Colling Rate: {result['cooling_rate']}\")\n",
    "    print(f\"Melhor Solução: {result['best_solution']}\")\n",
    "    print(f\"Distância da Melhor Solução: {result['best_distance']}\")\n",
    "    print(\"\\n\")"
   ]
  },
  {
   "cell_type": "markdown",
   "metadata": {},
   "source": [
    "#####4. A escolha da estratégia de vizinhança pode ter um impacto significativo no desempenho do algoritmo Simulated Annealing. Se a atualização não for aleatória e sempre escolher a vizinhança onde a distância é a maior, isso pode afetar a capacidade do algoritmo de escapar de mínimos locais e encontrar soluções melhoreAo sempre escolher a vizinhança onde a distância é a maior, o algoritmo pode ficar preso em ótimos locais subótimos sem explorar outras regiões do espaço de busca. Isso pode resultar em soluções que não são tão boas quanto poderiam ser se o algoritmo tivesse explorado mais amplamente o espaço de solução.A aleatoriedade na escolha da vizinhança permite que o algoritmo explore diferentes regiões do espaço de busca, o que é benéfico para escapar de mínimos locais e encontrar soluções mais próximas do ótimo global.Em resumo, é geralmente recomendado manter alguma aleatoriedade na escolha da vizinhança durante o Simulated Annealing para garantir uma exploração mais ampla do espaço de solução e aumentar as chances de encontrar soluções de melhor qualidade."
   ]
  },
  {
   "cell_type": "code",
   "execution_count": 32,
   "metadata": {},
   "outputs": [],
   "source": [
    "#sugestão de vizinhança 2\n",
    "def generate_neighbour_v2(solution):\n",
    "    # Escolhe aleatoriamente uma cidade para ser movida para a última posição\n",
    "    idx = np.random.choice(len(solution), size=1, replace=False)[0]\n",
    "    \n",
    "    # Gera a nova solução com a cidade escolhida na última posição\n",
    "    neighbour = np.concatenate([solution[:idx], solution[idx+1:], [solution[idx]]])\n",
    "    \n",
    "    return neighbour"
   ]
  },
  {
   "cell_type": "code",
   "execution_count": 33,
   "metadata": {},
   "outputs": [],
   "source": [
    "def simulated_annealing_v2(distances, initial_solution, initial_temperature, cooling_rate, num_iterations):\n",
    "    current_solution = solucao_candidata_fixa\n",
    "    best_solution = current_solution\n",
    "    temperature = initial_temperature\n",
    "\n",
    "    for iteration in range(num_iterations):\n",
    "        neighbour_solution = generate_neighbour_v2(current_solution)\n",
    "        current_cost = objective_function(distances, current_solution)\n",
    "        neighbour_cost = objective_function(distances, neighbour_solution)\n",
    "\n",
    "        if neighbour_cost < current_cost or np.random.rand() < np.exp((current_cost - neighbour_cost) / temperature):\n",
    "            current_solution = neighbour_solution\n",
    "\n",
    "        if neighbour_cost < objective_function(distances, best_solution):\n",
    "            best_solution = neighbour_solution\n",
    "\n",
    "        temperature *= cooling_rate\n",
    "\n",
    "    return best_solution"
   ]
  },
  {
   "cell_type": "code",
   "execution_count": 34,
   "metadata": {},
   "outputs": [
    {
     "name": "stdout",
     "output_type": "stream",
     "text": [
      "Melhor solução: [8 9 4 0 1 5 7 3 2 6]\n",
      "Distância da melhor solução: 509.0342386862176\n"
     ]
    }
   ],
   "source": [
    "# Exemplo de uso\n",
    "num_cities = 10\n",
    "start_lat, start_lon = 50, 20\n",
    "max_delta = 2\n",
    "\n",
    "city_locations = [give_me_coordinates(start_lat, start_lon, max_delta) for _ in range(num_cities)]\n",
    "distances = [[give_me_distance(city_locations[i], city_locations[j]) for j in range(num_cities)] for i in range(num_cities)]\n",
    "\n",
    "initial_solution = solucao_candidata_fixa\n",
    "initial_temperature = 1000.0\n",
    "cooling_rate = 0.95\n",
    "num_iterations = 20000\n",
    "\n",
    "best_solution = simulated_annealing_v2(distances, initial_solution, initial_temperature, cooling_rate, num_iterations)\n",
    "best_distance = objective_function(distances, best_solution)\n",
    "\n",
    "print(\"Melhor solução:\", best_solution)\n",
    "print(\"Distância da melhor solução:\", best_distance)"
   ]
  },
  {
   "cell_type": "code",
   "execution_count": 35,
   "metadata": {},
   "outputs": [
    {
     "data": {
      "image/png": "[encoded data removed]",
      "text/plain": [
       "<Figure size 640x480 with 1 Axes>"
      ]
     },
     "metadata": {},
     "output_type": "display_data"
    }
   ],
   "source": [
    "# Função para plotar as cidades e a rota\n",
    "def plot_solution(city_locations, solution):\n",
    "    # Descompacta as coordenadas das cidades\n",
    "    lats, lons = zip(*city_locations)\n",
    "    \n",
    "    # Adiciona a primeira cidade no final para fechar o ciclo\n",
    "    lats += (lats[0],)\n",
    "    lons += (lons[0],)\n",
    "    \n",
    "    # Plota as cidades\n",
    "    plt.scatter(lons, lats, color='red', marker='o', label='Cidades')\n",
    "    \n",
    "    # Plota a rota\n",
    "    plt.plot(np.take(lons, solution), np.take(lats, solution), linestyle='-', marker='o', color='blue', label='Rota')\n",
    "    \n",
    "    # Adiciona rótulos para as cidades\n",
    "    for i, txt in enumerate(range(len(city_locations))):\n",
    "        plt.annotate(txt, (lons[i], lats[i]), fontsize=8, ha='right', va='bottom')\n",
    "    \n",
    "    # Adiciona legendas e títulos\n",
    "    plt.legend()\n",
    "    plt.title('Representação Gráfica da Melhor Solução')\n",
    "    plt.xlabel('Longitude')\n",
    "    plt.ylabel('Latitude')\n",
    "    \n",
    "    # Exibe o gráfico\n",
    "    plt.show()\n",
    "\n",
    "# Exemplo de uso\n",
    "plot_solution(city_locations, best_solution)"
   ]
  },
  {
   "cell_type": "code",
   "execution_count": 59,
   "metadata": {},
   "outputs": [
    {
     "name": "stdout",
     "output_type": "stream",
     "text": [
      "Initial_temperature 1000, Colling Rate: 0.95\n",
      "Melhor Solução: [2 3 5 8 9 6 7 1 0 4]\n",
      "Distância da Melhor Solução: 650.122634654912\n",
      "\n",
      "\n",
      "Initial_temperature 1000, Colling Rate: 0.98\n",
      "Melhor Solução: [7 6 2 0 4 3 1 9 8 5]\n",
      "Distância da Melhor Solução: 638.9861254530447\n",
      "\n",
      "\n",
      "Initial_temperature 1000, Colling Rate: 0.99\n",
      "Melhor Solução: [7 2 4 0 5 8 9 1 6 3]\n",
      "Distância da Melhor Solução: 591.8823142687645\n",
      "\n",
      "\n",
      "Initial_temperature 5000, Colling Rate: 0.95\n",
      "Melhor Solução: [4 2 3 6 7 1 9 8 5 0]\n",
      "Distância da Melhor Solução: 620.57537455596\n",
      "\n",
      "\n",
      "Initial_temperature 5000, Colling Rate: 0.98\n",
      "Melhor Solução: [2 4 0 5 8 9 1 7 6 3]\n",
      "Distância da Melhor Solução: 547.7199146712048\n",
      "\n",
      "\n",
      "Initial_temperature 5000, Colling Rate: 0.99\n",
      "Melhor Solução: [2 3 6 7 1 9 8 5 0 4]\n",
      "Distância da Melhor Solução: 555.9924688157155\n",
      "\n",
      "\n",
      "Initial_temperature 10000, Colling Rate: 0.95\n",
      "Melhor Solução: [7 3 2 4 0 5 8 9 1 6]\n",
      "Distância da Melhor Solução: 594.2402140251534\n",
      "\n",
      "\n",
      "Initial_temperature 10000, Colling Rate: 0.98\n",
      "Melhor Solução: [1 9 8 5 0 4 2 3 6 7]\n",
      "Distância da Melhor Solução: 628.2176161429784\n",
      "\n",
      "\n",
      "Initial_temperature 10000, Colling Rate: 0.99\n",
      "Melhor Solução: [2 0 4 3 6 7 1 9 8 5]\n",
      "Distância da Melhor Solução: 559.8218621780866\n",
      "\n",
      "\n"
     ]
    }
   ],
   "source": [
    "def run_sa_experiments(distances, initial_solution, initial_temperatures, cooling_rates, num_iterations):\n",
    "    results = []\n",
    "\n",
    "    for initial_temp in initial_temperatures:\n",
    "        for cooling_rate in cooling_rates:\n",
    "            # Executa o Simulated Annealing para uma combinação específica de temperatura inicial e taxa de resfriamento\n",
    "            best_solution = simulated_annealing(distances, initial_solution, initial_temp, cooling_rate, num_iterations)\n",
    "            best_distance = objective_function(distances, best_solution)\n",
    "\n",
    "            # Armazena os resultados\n",
    "            results.append({\n",
    "                'initial_temp': initial_temp,\n",
    "                'cooling_rate': cooling_rate,\n",
    "                'best_solution': best_solution,\n",
    "                'best_distance': best_distance\n",
    "            })\n",
    "\n",
    "    return results\n",
    "\n",
    "# Configurações para experimentos\n",
    "initial_temperatures = [1000, 5000, 10000]\n",
    "cooling_rates = [0.95, 0.98, 0.99]\n",
    "num_iterations = 10000\n",
    "\n",
    "# Executa experimentos\n",
    "experiment_results = run_sa_experiments(distances, initial_solution, initial_temperatures, cooling_rates, num_iterations)\n",
    "\n",
    "# Imprime os resultados\n",
    "for result in experiment_results:\n",
    "    print(f\"Initial_temperature {result['initial_temp']}, Colling Rate: {result['cooling_rate']}\")\n",
    "    print(f\"Melhor Solução: {result['best_solution']}\")\n",
    "    print(f\"Distância da Melhor Solução: {result['best_distance']}\")\n",
    "    print(\"\\n\")"
   ]
  },
  {
   "cell_type": "markdown",
   "metadata": {},
   "source": [
    "** NECESSÁRIO COLOCAR POR OUTRAS PALAVRAS! A escolha da estratégia de vizinhança pode ter um impacto significativo no desempenho do algoritmo Simulated Annealing. Se a atualização não for aleatória e sempre escolher a vizinhança onde a distância é a maior, isso pode afetar a capacidade do algoritmo de escapar de mínimos locais e encontrar soluções melhores. Ao escolher a vizinhança onde a distância é a maior, o algoritmo pode ficar preso em ótimos locais subótimos sem explorar outras regiões do espaço de busca. Isso pode resultar em soluções que não são tão boas quanto poderiam ser se o algoritmo tivesse explorado mais amplamente o espaço de solução.A aleatoriedade na escolha da vizinhança permite que o algoritmo explore diferentes regiões do espaço de busca, o que é benéfico para escapar de mínimos locais e encontrar soluções mais próximas do ótimo global.Em resumo, é geralmente recomendado manter alguma aleatoriedade na escolha da vizinhança durante o Simulated Annealing para garantir uma exploração mais ampla do espaço de solução e aumentar as chances de encontrar soluções de melhor qualidade.**"
   ]
  },
  {
   "cell_type": "markdown",
   "metadata": {},
   "source": [
    "# Desafio - Programação "
   ]
  },
  {
   "cell_type": "markdown",
   "metadata": {},
   "source": [
    "Dependendo do algoritmo escolhido, responde às seguintes questões (com suporte gráfico, quando necessário).\n",
    "\n",
    "**Simulated Annealing**:\n",
    "1. Codifica um algoritmo capaz de fazer uma procura pelo ótimo global.\n",
    "2. Testa várias combinações de Temperatura Inicial e de método de atualização de Temperatura, e comenta sobre o impacto que esta atualização e valor tem no resultado final do modelo.\n",
    "3. Cria mais do que um conceito de vizinhança para a velocidade de convergência do modelo? \n",
    "    * Sugestão Vizinhança 1: A vizinhança de uma solução atual, é uma solução em que duas cidades trocam de posição (e.g. [1,2,3] passa para [1,3,2])\n",
    "    * Sugestão de Vizinhança 2: A vizinhança consiste em todas as cidades na mesma posição à excepção de uma que passa a ser a última cidade (e.g. [2,4,5,1,3] passa para [2,5,1,3,4]  \n",
    "3. O que acontece ao modelo se a atualização não for aleatória, mas passar a ser sempre aquela em que a distância é a maior? Este modelo tem melhores resultados?\n",
    "\n",
    "**Algoritmo Genético**:\n",
    "1. Codifica um algoritmo capaz de fazer uma procura pelo ótimo global.\n",
    "2. Explica a escolha de representação do cromossoma, e a maneira como as duas operações de reprodução foram codificadas:\n",
    "    * mutação\n",
    "    * cross-over\n",
    "3. O que acontece ao modelo se a atualização não for aleatória, mas passar a ser sempre aquela em que a distância é a maior? Este modelo tem melhores resultados?"
   ]
  },
  {
   "cell_type": "code",
   "execution_count": null,
   "metadata": {},
   "outputs": [],
   "source": []
  }
 ],
 "metadata": {
  "kernelspec": {
   "display_name": "Python 3 (ipykernel)",
   "language": "python",
   "name": "python3"
  },
  "language_info": {
   "codemirror_mode": {
    "name": "ipython",
    "version": 3
   },
   "file_extension": ".py",
   "mimetype": "text/x-python",
   "name": "python",
   "nbconvert_exporter": "python",
   "pygments_lexer": "ipython3",
   "version": "3.11.5"
  }
 },
 "nbformat": 4,
 "nbformat_minor": 4
}
